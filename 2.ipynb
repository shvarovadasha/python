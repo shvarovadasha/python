{
  "cells": [
    {
      "cell_type": "code",
      "execution_count": null,
      "metadata": {
        "colab": {
          "base_uri": "https://localhost:8080/"
        },
        "id": "R9fNTOY8HiN9",
        "outputId": "61b738d4-a0f1-4527-ed34-6c401e5eb1b0"
      },
      "outputs": [
        {
          "name": "stdout",
          "output_type": "stream",
          "text": [
            "Введите IP-адрес: 255.255.255.255\n",
            "local broadcast\n"
          ]
        }
      ],
      "source": [
        "#5.1\n",
        "ip_input= input('Введите IP-адрес: ')\n",
        "val = ip_input.split('.')\n",
        "if (int(val[0]) > 1) and (int(val[0]) < 223):\n",
        "    print('unicast')\n",
        "elif (int(val[0]) > 224) and (int(val[0]) < 239):\n",
        "    print('multicast')\n",
        "elif ip_input == '255.255.255.255':\n",
        "    print('local broadcast')\n",
        "elif ip_input == '0.0.0.0':\n",
        "    print('unassighned')\n",
        "else:\n",
        "    print('unused')"
      ]
    },
    {
      "cell_type": "code",
      "execution_count": null,
      "metadata": {
        "colab": {
          "base_uri": "https://localhost:8080/"
        },
        "id": "HBNu5UZchzRG",
        "outputId": "261d049d-5315-4e65-f04c-09befecbd791"
      },
      "outputs": [
        {
          "output_type": "stream",
          "name": "stdout",
          "text": [
            "Введите IP-адрес: gggg\n",
            "Incorrect IPv4 address\n"
          ]
        }
      ],
      "source": [
        "#5.1а\n",
        "ip_input = input('Введите IP-адрес: ')\n",
        "val = ip_input.split('.')\n",
        "\n",
        "ip_correct = True\n",
        "if len(val) != 4:\n",
        "  ip_correct = False\n",
        "else:\n",
        "  for item in val:\n",
        "     if not (int(val[0]) >= 0 and int(val[0]) <= 255\n",
        "             and int(val[1]) >= 0 and int(val[1]) <= 255\n",
        "             and int(val[2]) >= 0 and int(val[2]) <= 255\n",
        "             and int(val[3]) >= 0 and int(val[3]) <= 255):\n",
        "      ip_correct = False\n",
        "      break\n",
        "\n",
        "if not ip_correct:\n",
        "      print('Incorrect IPv4 address')\n",
        "else:\n",
        "    if (int(val[0]) > 1) and (int(val[0]) < 223):\n",
        "      print('unicast')\n",
        "    elif (int(val[0]) > 224) and (int(val[0]) < 239):\n",
        "      print('multicast')\n",
        "    elif ip_input == '255.255.255.255':\n",
        "      print('local broadcast')\n",
        "    elif ip_input == '0.0.0.0':\n",
        "      print('unassighned')\n",
        "    else:\n",
        "      print('unused')\n"
      ]
    },
    {
      "cell_type": "code",
      "execution_count": null,
      "metadata": {
        "colab": {
          "base_uri": "https://localhost:8080/"
        },
        "id": "fH2pLn3A7ltq",
        "outputId": "9b624d13-3197-4fae-aec9-3738acf2d74f"
      },
      "outputs": [
        {
          "output_type": "stream",
          "name": "stdout",
          "text": [
            "Введите IP-адрес: 0.0.00\\\n",
            "Incorrect IPv4 address\n",
            "Введите IP-адрес: 0.0.0.19\n",
            "unused\n"
          ]
        }
      ],
      "source": [
        "#5.1b\n",
        "while True:\n",
        "  ip_input = input('Введите IP-адрес: ')\n",
        "  val = ip_input.split('.')\n",
        "\n",
        "  ip_correct = True\n",
        "  if len(val) != 4:\n",
        "    ip_correct = False\n",
        "  else:\n",
        "    for item in val:\n",
        "     if not (int(val[0]) >= 0 and int(val[0]) <= 255\n",
        "             and int(val[1]) >= 0 and int(val[1]) <= 255\n",
        "             and int(val[2]) >= 0 and int(val[2]) <= 255\n",
        "             and int(val[3]) >= 0 and int(val[3]) <= 255):\n",
        "      ip_correct = False\n",
        "      break\n",
        "\n",
        "  if ip_correct:\n",
        "    break\n",
        "  else:\n",
        "    print('Incorrect IPv4 address')\n",
        "\n",
        "if (int(val[0]) > 1) and (int(val[0]) < 223):\n",
        "   print('unicast')\n",
        "elif (int(val[0]) > 224) and (int(val[0]) < 239):\n",
        "   print('multicast')\n",
        "elif ip_input == '255.255.255.255':\n",
        "   print('local broadcast')\n",
        "elif ip_input == '0.0.0.0':\n",
        "   print('unassighned')\n",
        "else:\n",
        "   print('unused')\n"
      ]
    },
    {
      "cell_type": "code",
      "source": [
        "#5.2\n",
        "mac = ['aabb:cc80:7000', 'aabb:dd80:7340', 'aabb:ee80:7000', 'aabb:ff80:7000']\n",
        "mac_list = []\n",
        "\n",
        "for item in mac:\n",
        "  item_mac = item.replace(':', '.')\n",
        "  mac_list.append(item_mac)\n",
        "print(mac_list)\n"
      ],
      "metadata": {
        "colab": {
          "base_uri": "https://localhost:8080/"
        },
        "id": "Tu3uW3jqoovZ",
        "outputId": "11f869b2-4098-490c-896a-34aefc28b67c"
      },
      "execution_count": null,
      "outputs": [
        {
          "output_type": "stream",
          "name": "stdout",
          "text": [
            "['aabb.cc80.7000', 'aabb.dd80.7340', 'aabb.ee80.7000', 'aabb.ff80.7000']\n"
          ]
        }
      ]
    },
    {
      "cell_type": "code",
      "source": [
        "#5.3\n",
        "access_template = ['switchport mode access',\n",
        "'switchport access vlan',\n",
        "'spanning-tree portfast',\n",
        "'spanning-tree bpduguard enable']\n",
        "\n",
        "trunk_template = ['switchport trunk encapsulation dot1q',\n",
        "'switchport mode trunk',\n",
        "'switchport trunk allowed vlan']\n",
        "\n",
        "fast_int = {'access':{'0/12':'10','0/14':'11','0/16':'17','0/17':'150'},\n",
        "'trunk':{'0/1':['add','10','20'],\n",
        "'0/2':['only','11','30'],\n",
        "'0/4':['del','17']} }\n",
        "\n",
        "for intf, vlan in fast_int['access'].items():\n",
        "  print('interface FastEthernet' + intf)\n",
        "  for command in access_template:\n",
        "    if command.endswith('access vlan'):\n",
        "      print(' {} {}'.format(command, vlan))\n",
        "    else:\n",
        "      print(' {}'.format(command))\n",
        "\n",
        "for intf, vlan in fast_int['trunk'].items():\n",
        "  print('interface FastEthernet' + intf)\n",
        "  for command in trunk_template:\n",
        "    if command.endswith('mode trunk'):\n",
        "      print(' {} {}'.format(command, vlan))\n",
        "    else:\n",
        "      print(' {}'.format(command))\n",
        "\n"
      ],
      "metadata": {
        "colab": {
          "base_uri": "https://localhost:8080/"
        },
        "id": "vOczWAwV56R6",
        "outputId": "a1e34a29-1fc3-4e0b-cad3-1672192ab848"
      },
      "execution_count": null,
      "outputs": [
        {
          "output_type": "stream",
          "name": "stdout",
          "text": [
            "interface FastEthernet0/12\n",
            " switchport mode access\n",
            " switchport access vlan 10\n",
            " spanning-tree portfast\n",
            " spanning-tree bpduguard enable\n",
            "interface FastEthernet0/14\n",
            " switchport mode access\n",
            " switchport access vlan 11\n",
            " spanning-tree portfast\n",
            " spanning-tree bpduguard enable\n",
            "interface FastEthernet0/16\n",
            " switchport mode access\n",
            " switchport access vlan 17\n",
            " spanning-tree portfast\n",
            " spanning-tree bpduguard enable\n",
            "interface FastEthernet0/17\n",
            " switchport mode access\n",
            " switchport access vlan 150\n",
            " spanning-tree portfast\n",
            " spanning-tree bpduguard enable\n",
            "interface FastEthernet0/1\n",
            " switchport trunk encapsulation dot1q\n",
            " switchport mode trunk ['add', '10', '20']\n",
            " switchport trunk allowed vlan\n",
            "interface FastEthernet0/2\n",
            " switchport trunk encapsulation dot1q\n",
            " switchport mode trunk ['only', '11', '30']\n",
            " switchport trunk allowed vlan\n",
            "interface FastEthernet0/4\n",
            " switchport trunk encapsulation dot1q\n",
            " switchport mode trunk ['del', '17']\n",
            " switchport trunk allowed vlan\n"
          ]
        }
      ]
    }
  ],
  "metadata": {
    "colab": {
      "provenance": []
    },
    "kernelspec": {
      "display_name": "Python 3",
      "name": "python3"
    },
    "language_info": {
      "name": "python"
    }
  },
  "nbformat": 4,
  "nbformat_minor": 0
}
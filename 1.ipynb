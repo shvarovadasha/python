{
  "nbformat": 4,
  "nbformat_minor": 0,
  "metadata": {
    "colab": {
      "provenance": []
    },
    "kernelspec": {
      "name": "python3",
      "display_name": "Python 3"
    },
    "language_info": {
      "name": "python"
    }
  },
  "cells": [
    {
      "cell_type": "markdown",
      "source": [],
      "metadata": {
        "id": "eCsG3ggNFKJd"
      }
    },
    {
      "cell_type": "code",
      "execution_count": null,
      "metadata": {
        "colab": {
          "base_uri": "https://localhost:8080/",
          "height": 35
        },
        "id": "2j22yFLCDNja",
        "outputId": "f845efdb-5b3f-4578-90af-597f61e01d9e"
      },
      "outputs": [
        {
          "output_type": "execute_result",
          "data": {
            "text/plain": [
              "'ip nat inside source list ACL interface GigabitEthernet0/1 overload'"
            ],
            "application/vnd.google.colaboratory.intrinsic+json": {
              "type": "string"
            }
          },
          "metadata": {},
          "execution_count": 1
        }
      ],
      "source": [
        "#3.1\n",
        "NAT = \"ip nat inside source list ACL interface FastEthernet0/1 overload\"\n",
        "NAT.replace('Fast','Gigabit')"
      ]
    },
    {
      "cell_type": "code",
      "source": [
        "#3.2\n",
        "MAC = 'AAAA:BBBB:CCCC'\n",
        "MAC.replace(':','.')"
      ],
      "metadata": {
        "colab": {
          "base_uri": "https://localhost:8080/",
          "height": 35
        },
        "id": "SCrE3UyNDPbF",
        "outputId": "a9bba0c8-ff82-4f5c-9f4e-248d219dd296"
      },
      "execution_count": null,
      "outputs": [
        {
          "output_type": "execute_result",
          "data": {
            "text/plain": [
              "'AAAA.BBBB.CCCC'"
            ],
            "application/vnd.google.colaboratory.intrinsic+json": {
              "type": "string"
            }
          },
          "metadata": {},
          "execution_count": 2
        }
      ]
    },
    {
      "cell_type": "code",
      "source": [
        "#3.3\n",
        "CONFIG = 'switchport trunk allowed vlan 1,3,10,20,30,100'\n",
        "commands = CONFIG.split()\n",
        "print(commands)\n",
        "vlans = commands[-1].split(',')\n",
        "print(vlans)"
      ],
      "metadata": {
        "colab": {
          "base_uri": "https://localhost:8080/"
        },
        "id": "UvaKTJvEGEfk",
        "outputId": "1b3dc7aa-8a52-453a-f3c8-3d19aa9b8712"
      },
      "execution_count": null,
      "outputs": [
        {
          "output_type": "stream",
          "name": "stdout",
          "text": [
            "['switchport', 'trunk', 'allowed', 'vlan', '1,3,10,20,30,100']\n",
            "['1', '3', '10', '20', '30', '100']\n"
          ]
        }
      ]
    },
    {
      "cell_type": "code",
      "source": [
        "#3.4\n",
        "command1 = 'switchport trunk allowed vlan 1,3,10,20,30,100'\n",
        "command2 = 'switchport trunk allowed vlan 1,3,100,200,300'\n",
        "commands11 = command1.split()\n",
        "commands22 = command2.split()\n",
        "vlans1 = commands11[-1].split(',')\n",
        "vlans2 = commands22[-1].split(',')\n",
        "result = list(set(vlans1) & set(vlans2))\n",
        "print(result)"
      ],
      "metadata": {
        "colab": {
          "base_uri": "https://localhost:8080/"
        },
        "id": "31HwgHo5Lb4b",
        "outputId": "2dbf3123-ed46-4815-c9f1-10671bf0113a"
      },
      "execution_count": null,
      "outputs": [
        {
          "output_type": "stream",
          "name": "stdout",
          "text": [
            "['100', '1', '3']\n"
          ]
        }
      ]
    },
    {
      "cell_type": "code",
      "source": [
        "#3.6\n",
        "ospf_route = 'OSPF 10.0.24.0/24 [110/41] via 10.0.13.3, 3d18h, FastEthernet0/0'\n",
        "ospf_route_keys = ['Protocol:', 'Prefix:', 'AD/Metric:', 'Next-Hop:', 'Last update:', 'Outbound Interface:']\n",
        "values = ospf_route.split()\n",
        "print(\"%-20s %-10s\" % (ospf_route_keys[0], values[0]))\n",
        "print(\"%-20s %-10s\" % (ospf_route_keys[1], values[1]))\n",
        "print(\"%-20s %-10s\" % (ospf_route_keys[2], values[2]))\n",
        "print(\"%-20s %-10s\" % (ospf_route_keys[3], values[3]))\n",
        "print(\"%-20s %-10s\" % (ospf_route_keys[4], values[4][:-1]))\n",
        "print(\"%-20s %-10s\" % (ospf_route_keys[5], values[5][:-1]))"
      ],
      "metadata": {
        "colab": {
          "base_uri": "https://localhost:8080/"
        },
        "id": "e7bSlf0xVe1Z",
        "outputId": "afe3ad8e-a333-4ab6-d6cc-7bb49f228594"
      },
      "execution_count": null,
      "outputs": [
        {
          "output_type": "stream",
          "name": "stdout",
          "text": [
            "Protocol:            OSPF      \n",
            "Prefix:              10.0.24.0/24\n",
            "AD/Metric:           [110/41]  \n",
            "Next-Hop:            via       \n",
            "Last update:         10.0.13.3 \n",
            "Outbound Interface:  3d18h     \n"
          ]
        }
      ]
    },
    {
      "cell_type": "code",
      "source": [
        "#3.7\n",
        "MAC = 'AAAA:BBBB:CCCC'\n",
        "MAC_no_colon = MAC.replace(\":\", \"\")\n",
        "bin(int(MAC_no_colon, 16))"
      ],
      "metadata": {
        "colab": {
          "base_uri": "https://localhost:8080/",
          "height": 35
        },
        "id": "45CfL_2wIAT-",
        "outputId": "a521d04e-ac91-4aa1-f5d9-a7a654a8b2ac"
      },
      "execution_count": null,
      "outputs": [
        {
          "output_type": "execute_result",
          "data": {
            "text/plain": [
              "'0b101010101010101010111011101110111100110011001100'"
            ],
            "application/vnd.google.colaboratory.intrinsic+json": {
              "type": "string"
            }
          },
          "metadata": {},
          "execution_count": 32
        }
      ]
    },
    {
      "cell_type": "code",
      "source": [
        "#3.8\n",
        "IP = '192.168.3.1'\n",
        "octets = IP.split(\".\")\n",
        "print(\"%-10s %-10s %-10s %-10s\" % (octets[0],octets[1], octets[2], octets[3]))\n",
        "print(\"%-10s %-10s %-10s %-10s\" % (format(int(octets[0]), '08b'), format(int(octets[1]), '08b'), format(int(octets[2]), '08b'), format(int(octets[3]), '08b')))"
      ],
      "metadata": {
        "colab": {
          "base_uri": "https://localhost:8080/"
        },
        "id": "qXCIvlErKHF3",
        "outputId": "6432b5f5-427b-47c2-aa35-8522e783c21b"
      },
      "execution_count": null,
      "outputs": [
        {
          "output_type": "stream",
          "name": "stdout",
          "text": [
            "192        168        3          1         \n",
            "11000000   10101000   00000011   00000001  \n"
          ]
        }
      ]
    },
    {
      "cell_type": "code",
      "source": [
        "#3.9\n",
        "num_list = [10, 2, 30, 100, 10, 50, 11, 30, 15, 7]\n",
        "word_list = ['python', 'ruby', 'perl', 'ruby', 'perl', 'python', 'ruby', 'perl']\n",
        "#word_list.index(word_list[-1], 5, 10)\n",
        "num_list.index(num_list[-1], 2, 10)"
      ],
      "metadata": {
        "id": "8YZO2Dc2K7AL",
        "colab": {
          "base_uri": "https://localhost:8080/"
        },
        "outputId": "d63e3868-42cd-4028-e4db-797f9fd1f4ac"
      },
      "execution_count": null,
      "outputs": [
        {
          "output_type": "execute_result",
          "data": {
            "text/plain": [
              "9"
            ]
          },
          "metadata": {},
          "execution_count": 1
        }
      ]
    }
  ]
}